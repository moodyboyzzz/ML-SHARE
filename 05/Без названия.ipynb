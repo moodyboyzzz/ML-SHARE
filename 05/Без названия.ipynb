{
 "cells": [
  {
   "cell_type": "code",
   "execution_count": null,
   "id": "bc3d3017",
   "metadata": {},
   "outputs": [],
   "source": [
    "import csv\n",
    "\n",
    "with open('y_true.txt', 'r') as true_file, open('y_pred.txt', 'r') as pred_file:\n",
    "    y_true = [int(x) for x in true_file]\n",
    "    y_pred = [int(x) for x in pred_file]\n",
    "\n",
    "TP = sum(1 for i in range(len(y_true)) if y_true[i] == 1 and y_pred[i] == 1)\n",
    "TN = sum(1 for i in range(len(y_true)) if y_true[i] == -1 and y_pred[i] == -1)\n",
    "FP = sum(1 for i in range(len(y_true)) if y_true[i] == -1 and y_pred[i] == 1)\n",
    "FN = sum(1 for i in range(len(y_true)) if y_true[i] == 1 and y_pred[i] == -1)\n",
    "\n",
    "acc = (TP + TN) / (TP + TN + FP + FN)\n",
    "prec = TP / (TP + FP)\n",
    "rec = TP / (TP + FN)\n",
    "tpr = rec\n",
    "fpr = FP / (FP + TN)\n",
    "tnr = TN / (FP + TN)\n",
    "fnr = FN / (TP + FN)\n",
    "f1 = 2 * (prec * rec) / (prec + rec)\n",
    "\n",
    "metrics = [acc, tpr, fpr, tnr, fnr, prec, rec, f1]\n",
    "\n",
    "with open('seminar05_metrics.csv', 'w', newline='') as csv_file:\n",
    "    writer = csv.writer(csv_file)\n",
    "    writer.writerow([\"acc\", \"tpr\", \"fpr\", \"tnr\", \"fnr\", \"prec\", \"rec\", \"f1\"])\n",
    "    writer.writerow(metrics)"
   ]
  }
 ],
 "metadata": {
  "kernelspec": {
   "display_name": "Python 3 (ipykernel)",
   "language": "python",
   "name": "python3"
  },
  "language_info": {
   "codemirror_mode": {
    "name": "ipython",
    "version": 3
   },
   "file_extension": ".py",
   "mimetype": "text/x-python",
   "name": "python",
   "nbconvert_exporter": "python",
   "pygments_lexer": "ipython3",
   "version": "3.11.4"
  }
 },
 "nbformat": 4,
 "nbformat_minor": 5
}
